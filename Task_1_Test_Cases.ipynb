{
 "cells": [
  {
   "cell_type": "code",
   "execution_count": 1,
   "metadata": {
    "cell_id": "9e1cba0e46bf43ab995c19a0c5f7c772",
    "deepnote_cell_type": "code",
    "deepnote_to_be_reexecuted": false,
    "execution_millis": 2449,
    "execution_start": 1709576231857,
    "source_hash": null
   },
   "outputs": [
    {
     "name": "stdout",
     "output_type": "stream",
     "text": [
      "Requirement already satisfied: todocli==5.0.0 in /home/iplayer/anaconda3/envs/semsea/lib/python3.11/site-packages (5.0.0)\r\n",
      "Requirement already satisfied: setuptools==65.5.1 in /home/iplayer/anaconda3/envs/semsea/lib/python3.11/site-packages (from todocli==5.0.0) (65.5.1)\r\n"
     ]
    }
   ],
   "source": [
    "!pip install todocli==5.0.0"
   ]
  },
  {
   "cell_type": "code",
   "execution_count": 46,
   "metadata": {},
   "outputs": [],
   "source": [
    "\"\"\"\n",
    " * ==============================================\n",
    " * All credit to https://github.com/clue/json-stream/blob/master/src/StreamingJsonParser.php\n",
    " * ==============================================\n",
    "\"\"\"\n",
    "\n",
    "class StreamingJsonParser:\n",
    "    def __init__(self):\n",
    "        self.buffer = ''\n",
    "        self.end_character = None\n",
    "        self.assoc = True\n",
    "\n",
    "    def parse(self, chunk):\n",
    "        objects = []\n",
    "\n",
    "        while chunk != '':\n",
    "            if self.end_character is None:\n",
    "                chunk = chunk.strip()\n",
    "\n",
    "                if chunk == '':\n",
    "                    break\n",
    "                elif chunk[0] == '[':\n",
    "                    self.end_character = ']'\n",
    "                elif chunk[0] == '{':\n",
    "                    self.end_character = '}'\n",
    "                else:\n",
    "                    raise ValueError('Invalid start')\n",
    "\n",
    "            pos = chunk.find(self.end_character)\n",
    "\n",
    "            if pos == -1:\n",
    "                self.buffer += chunk\n",
    "                break\n",
    "\n",
    "            self.buffer += chunk[:pos + 1]\n",
    "            chunk = chunk[pos + 1:]\n",
    "\n",
    "            try:\n",
    "                json_obj = json.loads(self.buffer)\n",
    "            except ValueError:\n",
    "                continue\n",
    "\n",
    "            if json_obj is not None:\n",
    "                objects.append(json_obj)\n",
    "\n",
    "                self.buffer = ''\n",
    "                self.end_character = None\n",
    "\n",
    "        return objects\n",
    "\n",
    "    def is_empty(self):\n",
    "        return self.buffer == ''\n"
   ]
  },
  {
   "cell_type": "code",
   "execution_count": 36,
   "metadata": {},
   "outputs": [],
   "source": [
    "import json\n",
    "import requests\n",
    "\n",
    "def api_query(query,model=False):\n",
    "    r = requests.post(\"http://127.0.0.1:8080/api/query\", json={\"payload\":{\"query\":query,\"feature\":\"calendar\",\"commit\":False}}, stream=True)\n",
    "    parser = StreamingJsonParser()\n",
    "    for line in r.iter_lines():\n",
    "\n",
    "        if line:\n",
    "            decoded_line = line.decode('utf-8')\n",
    "            for chunk in parser.parse(decoded_line):\n",
    "                if model and chunk.get(\"type\")==\"model\":\n",
    "                    response = chunk[\"payload\"][\"response\"]\n",
    "                    indexes = [m.start() for m in re.finditer('```', response)]\n",
    "                    if len(indexes)>=2:\n",
    "                        return response[indexes[0]+3:indexes[1]-1]\n",
    "                    return response\n",
    "                if (chunk.get(\"payload\") or {}).get(\"action\")==\"execute\":\n",
    "                    return \"\\n\".join(chunk.get(\"payload\",{}).get(\"commands\"))"
   ]
  },
  {
   "cell_type": "code",
   "execution_count": 37,
   "metadata": {
    "cell_id": "b4ce486bac61480bb13234441362a576",
    "deepnote_cell_type": "code",
    "deepnote_to_be_reexecuted": false,
    "execution_millis": 52,
    "execution_start": 1709576447916,
    "source_hash": null
   },
   "outputs": [],
   "source": [
    "import subprocess\n",
    "import re\n",
    "\n",
    "def exec_commands(commands):    \n",
    "    p = subprocess.run([\"bash\", \"-c\", commands], capture_output=True, text=True)\n",
    "    ansi_escape = re.compile(r'''\n",
    "    \\x1B  # ESC\n",
    "    (?:   # 7-bit C1 Fe (except CSI)\n",
    "        [@-Z\\\\-_]\n",
    "    |     # or [ for CSI, followed by a control sequence\n",
    "        \\[\n",
    "        [0-?]*  # Parameter bytes\n",
    "        [ -/]*  # Intermediate bytes\n",
    "        [@-~]   # Final byte\n",
    "    )\n",
    "''', re.VERBOSE)\n",
    "    return ansi_escape.sub('', p.stdout)\n",
    "\n",
    "# student LLM will be put here for testing\n",
    "def student_llm(task,model=False):\n",
    "    return api_query(task,model=model)\n",
    "\n",
    "TODO_LOC = exec_commands('todo --location')\n",
    "TEST = True"
   ]
  },
  {
   "cell_type": "markdown",
   "metadata": {},
   "source": [
    "# 1 Predefined Test Cases"
   ]
  },
  {
   "cell_type": "markdown",
   "metadata": {
    "cell_id": "5168cd9fb3ff43e9b25ea6e9e22a6590",
    "deepnote_cell_type": "markdown"
   },
   "source": [
    "#### Task 1) *Mark the first and third items on my homework_list as done*"
   ]
  },
  {
   "cell_type": "code",
   "execution_count": 47,
   "metadata": {
    "cell_id": "a03c8f6721ad45869bf0309bc736d630",
    "deepnote_cell_type": "code",
    "deepnote_to_be_reexecuted": false,
    "execution_millis": 390,
    "execution_start": 1709576449112,
    "source_hash": null
   },
   "outputs": [
    {
     "name": "stdout",
     "output_type": "stream",
     "text": [
      " 1 | LLM Homework\n",
      " 2 | NLP Homework\n",
      " 3 | Math Homework\n",
      " 4 | ML Homework\n",
      "\n"
     ]
    }
   ],
   "source": [
    "task = \"Mark the first and third items on my homework_list as done\"\n",
    "\n",
    "init_commands = f\"\"\"\n",
    "rm -r {TODO_LOC}\n",
    "todo add \"LLM Homework\" --context homework_list\n",
    "todo add \"NLP Homework\" --context homework_list\n",
    "todo add \"Math Homework\" --context homework_list\n",
    "todo add \"ML Homework\"  --context homework_list\n",
    "\n",
    "todo homework_list\n",
    "\"\"\"\n",
    "\n",
    "# setup initial state\n",
    "init_state = exec_commands(init_commands)\n",
    "print(init_state)\n",
    "\n",
    "# run commands from LLM and get final state\n",
    "final_commands = student_llm(task)\n",
    "exec_commands(final_commands)\n",
    "final_state = exec_commands('todo --flat')\n",
    "\n",
    "if TEST:\n",
    "    # final_state should contain \"ML Homework\" and \"NLP Homework\" only\n",
    "    assert \"ML Homework\" in final_state and \"NLP Homework\" in final_state\n",
    "    assert \"LLM Homework\" not in final_state and \"Math Homework\" not in final_state\n",
    "    # searching for undone tasks with term LLM or Math should yield nothing\n",
    "    assert \"LLM Homework\"  in exec_commands('todo search \"LLM Homework\" --done')\n",
    "    assert \"Math Homework\" in exec_commands('todo search \"Math Homework\" --done')"
   ]
  },
  {
   "cell_type": "markdown",
   "metadata": {
    "cell_id": "e4817241682e48bbb8b6200d155528ce",
    "deepnote_cell_type": "markdown"
   },
   "source": [
    "#### Task 2) *Prioritize the first item in my shopping list*"
   ]
  },
  {
   "cell_type": "code",
   "execution_count": 48,
   "metadata": {
    "cell_id": "a0c7549361ad4a79987e793a25f58584",
    "deepnote_cell_type": "code",
    "deepnote_to_be_reexecuted": false,
    "execution_millis": 417,
    "execution_start": 1709576256410,
    "source_hash": null
   },
   "outputs": [
    {
     "name": "stdout",
     "output_type": "stream",
     "text": [
      " 1 | Two bottles of milk\n",
      " 2 | Three cans of SinaCola\n",
      " 3 | Fifty eggs\n",
      "\n"
     ]
    }
   ],
   "source": [
    "task = \"Prioritize the first item in my shopping list\"\n",
    "\n",
    "init_commands = f\"\"\"\n",
    "rm -r {TODO_LOC}\n",
    "\n",
    "todo add \"Two bottles of milk\" --context shopping_list\n",
    "todo add \"Three cans of SinaCola\" --context shopping_list\n",
    "todo add \"Fifty eggs\" --context shopping_list\n",
    "\n",
    "\n",
    "todo shopping_list\n",
    "\"\"\"\n",
    "\n",
    "# setup initial state\n",
    "init_state = exec_commands(init_commands)\n",
    "print(init_state)\n",
    "\n",
    "# run commands from LLM and get final state\n",
    "final_commands = student_llm(task)\n",
    "exec_commands(final_commands)\n",
    "final_state = exec_commands('todo --flat')\n",
    "\n",
    "if TEST:\n",
    "    # Should have the first item with priority greater than zero\n",
    "    assert bool(re.search(r\"Two bottles of milk ★[1-9]\\d*\", final_state))\n",
    "    # Should be the only instance\n",
    "    assert final_state.count(\"★\") == 1"
   ]
  },
  {
   "cell_type": "markdown",
   "metadata": {
    "cell_id": "8c8ebba3659b41f789125faf9cbbb04f",
    "deepnote_cell_type": "markdown"
   },
   "source": [
    "#### Task 3) *Move all completed tasks from my project_list to an archive_list*"
   ]
  },
  {
   "cell_type": "code",
   "execution_count": 49,
   "metadata": {
    "cell_id": "87fd4900321141cf8ea24c1d1bacc3bc",
    "deepnote_cell_type": "code",
    "deepnote_to_be_reexecuted": false,
    "execution_millis": 656,
    "execution_start": 1709576235302,
    "source_hash": null
   },
   "outputs": [
    {
     "name": "stdout",
     "output_type": "stream",
     "text": [
      " 3 | ML Project\n",
      " 4 | Algebra I Project\n",
      " 1 | [DONE] NLP Project #project_list\n",
      " 2 | [DONE] Math Project #project_list\n",
      "\n"
     ]
    }
   ],
   "source": [
    "task = \"Move all completed tasks from my project_list to an archive_list\"\n",
    "\n",
    "init_commands = f\"\"\"\n",
    "rm -r {TODO_LOC}\n",
    "\n",
    "todo add \"NLP Project\" --context project_list\n",
    "todo add \"Math Project\" --context project_list\n",
    "todo add \"ML Project\" --context project_list\n",
    "\n",
    "todo add \"Algebra I Project\" --context archive_list\n",
    "\n",
    "todo done 1            \n",
    "todo done 2            \n",
    "\n",
    "todo project_list\n",
    "todo archive_list\n",
    "todo search '' --context project_list --done\n",
    "\"\"\"\n",
    "\n",
    "# setup initial state\n",
    "init_state = exec_commands(init_commands)\n",
    "print(init_state)\n",
    "\n",
    "# run commands from LLM and get final state\n",
    "final_commands = student_llm(task)\n",
    "exec_commands(final_commands)\n",
    "final_state = exec_commands('todo --flat')\n",
    "\n",
    "if TEST:\n",
    "    # The two completed tasks should now be in the archive list\n",
    "    assert \"[DONE] NLP Project #archive_list\" in exec_commands(\"todo search '' --context archive_list --done\")\n",
    "    assert \"[DONE] Math Project #archive_list\" in exec_commands(\"todo search '' --context archive_list --done\")\n",
    "    # There should be no done projects\n",
    "    assert exec_commands(\"todo search '' --context project_list --done\") == \"\"\n",
    "    # There should be one undone project\n",
    "    assert \"ML Project\" in exec_commands(\"todo search '' --context project_list --undone\")"
   ]
  },
  {
   "cell_type": "markdown",
   "metadata": {
    "cell_id": "2361732ee36044638c0d96b25fb1137e",
    "deepnote_cell_type": "markdown"
   },
   "source": [
    "#### Task 4) *Prioritize all tasks that have to do with my studies*"
   ]
  },
  {
   "cell_type": "code",
   "execution_count": 50,
   "metadata": {
    "cell_id": "b7db683b357a4a2fbb61238c6233aa3e",
    "deepnote_cell_type": "code",
    "deepnote_to_be_reexecuted": false,
    "execution_millis": 489,
    "execution_start": 1709576235962,
    "source_hash": null
   },
   "outputs": [
    {
     "name": "stdout",
     "output_type": "stream",
     "text": [
      " 1 | Mathematics #study_list1\n",
      " 2 | Buy chocolate #shopping_list\n",
      " 3 | Buy bread #shopping_list\n",
      " 4 | History #study_list2\n",
      " 5 | Arts #study_list2\n",
      "\n"
     ]
    }
   ],
   "source": [
    "task = \"Prioritize all tasks that have to do with my studies\"\n",
    "\n",
    "init_commands = f\"\"\"\n",
    "rm -r {TODO_LOC}\n",
    "\n",
    "todo add \"Mathematics\" --context study_list1\n",
    "\n",
    "todo add \"Buy chocolate\" --context shopping_list\n",
    "todo add \"Buy bread\" --context shopping_list\n",
    "\n",
    "todo add \"History\" --context study_list2\n",
    "todo add \"Arts\" --context study_list2\n",
    "\n",
    "todo --flat\n",
    "\"\"\"\n",
    "\n",
    "# setup initial state\n",
    "init_state = exec_commands(init_commands)\n",
    "print(init_state)\n",
    "\n",
    "# run commands from LLM and get final state\n",
    "final_commands = student_llm(task)\n",
    "exec_commands(final_commands)\n",
    "final_state = exec_commands('todo --flat')\n",
    "\n",
    "if TEST:\n",
    "    # The study related items should be prioritized\n",
    "    assert bool(re.search(r\"Mathematics ★[1-9]\\d*\", final_state))\n",
    "    assert bool(re.search(r\"History ★[1-9]\\d*\", final_state))\n",
    "    assert bool(re.search(r\"Arts ★[1-9]\\d*\", final_state))\n",
    "    # Only they should be prioritized\n",
    "    assert final_state.count(\"★\") == 3"
   ]
  },
  {
   "cell_type": "markdown",
   "metadata": {
    "cell_id": "0df75af02118470c915d821a2d34f680",
    "deepnote_cell_type": "markdown"
   },
   "source": [
    "#### Task 5) *Merge my work_list and personal_list together into a combined_list*"
   ]
  },
  {
   "cell_type": "code",
   "execution_count": 51,
   "metadata": {
    "cell_id": "7d8805cde9d84b179b856d6170872e58",
    "deepnote_cell_type": "code",
    "deepnote_to_be_reexecuted": false,
    "execution_millis": 496,
    "execution_start": 1709576236454,
    "source_hash": null
   },
   "outputs": [
    {
     "name": "stdout",
     "output_type": "stream",
     "text": [
      " 1 | Write these tests #work_list\n",
      " 2 | Write more tests #work_list\n",
      " 3 | Hang out with friends #personal_list\n",
      " 4 | Go to the dentist #personal_list\n",
      "\n"
     ]
    }
   ],
   "source": [
    "task = \"Merge my work_list and personal_list together into a combined_list\"\n",
    "\n",
    "init_commands = f\"\"\"\n",
    "rm -r {TODO_LOC}\n",
    "\n",
    "todo add \"Write these tests\" --context work_list\n",
    "todo add \"Write more tests\" --context work_list\n",
    "\n",
    "todo add \"Hang out with friends\" --context personal_list\n",
    "todo add \"Go to the dentist\" --context personal_list\n",
    "\n",
    "# todo mv personal_list work_list\n",
    "# todo rmctx personal_list --force\n",
    "# todo ctx work_list --name \"combined_list\"\n",
    "\n",
    "todo --flat\n",
    "\"\"\"\n",
    "\n",
    "# setup initial state\n",
    "init_state = exec_commands(init_commands)\n",
    "print(init_state)\n",
    "\n",
    "# run commands from LLM and get final state\n",
    "final_commands = student_llm(task)\n",
    "exec_commands(final_commands)\n",
    "final_state = exec_commands('todo --flat')\n",
    "\n",
    "if TEST:\n",
    "    # work_list and personal_list should not be in final_state\n",
    "    assert \"#work_list\" not in final_state\n",
    "    assert \"#personal_list\" not in final_state\n",
    "    # combined_list should appear four times in final_state\n",
    "    assert final_state.count(\"#combined_list\") == 4\n",
    "    # check that a random task is in the combined_list\n",
    "    assert \"Hang out with friends #combined_list\" in final_state"
   ]
  },
  {
   "cell_type": "markdown",
   "metadata": {
    "cell_id": "3e266088b2c94cf58e738da444709e25",
    "deepnote_cell_type": "markdown"
   },
   "source": [
    "#### Task 6) *Set all items in my study_list to maximum importance*"
   ]
  },
  {
   "cell_type": "code",
   "execution_count": 52,
   "metadata": {
    "cell_id": "817ffebeb233403fa2d91e2c1ac1e009",
    "deepnote_cell_type": "code",
    "deepnote_to_be_reexecuted": false,
    "execution_millis": 552,
    "execution_start": 1709576236953,
    "source_hash": null
   },
   "outputs": [
    {
     "name": "stdout",
     "output_type": "stream",
     "text": [
      " 1 | Matrix Calculus #study_list\n",
      " 2 | Convex Optimization #study_list\n",
      " 3 | Differential Equations #study_list\n",
      " 4 | League of Legends #gaming_list\n",
      " 5 | Heros of the Storm #gaming_list\n",
      " 6 | Study Quizzes #gaming_list\n",
      "\n"
     ]
    }
   ],
   "source": [
    "task = \"Set all items in my study_list to maximum importance\"\n",
    "\n",
    "init_commands = f\"\"\"\n",
    "rm -r {TODO_LOC}\n",
    "\n",
    "todo add \"Matrix Calculus\" --context study_list\n",
    "todo add \"Convex Optimization\" --context study_list\n",
    "todo add \"Differential Equations\" --context study_list\n",
    "\n",
    "todo add \"League of Legends\" --context gaming_list\n",
    "todo add \"Heros of the Storm\" --context gaming_list\n",
    "todo add \"Study Quizzes\" --context gaming_list\n",
    "\n",
    "todo --flat\n",
    "\"\"\"\n",
    "\n",
    "# setup initial state\n",
    "init_state = exec_commands(init_commands)\n",
    "print(init_state)\n",
    "\n",
    "# run commands from LLM and get final state\n",
    "final_commands = student_llm(task)\n",
    "exec_commands(final_commands)\n",
    "final_state = exec_commands('todo --flat')\n",
    "\n",
    "# Test will assume maximum priority is 99\n",
    "if TEST:\n",
    "    # Check that all items in study_list have maximum priority\n",
    "    assert bool(re.search(r\"Matrix Calculus ★99\", final_state))\n",
    "    assert bool(re.search(r\"Convex Optimization ★99\", final_state))\n",
    "    assert bool(re.search(r\"Differential Equations ★99\", final_state))\n",
    "    # There must be only three ★99\n",
    "    assert final_state.count(\"★99\") == 3\n",
    "    \n",
    "    # gaming items must occur with no priority\n",
    "    assert \"League of Legends #gaming_list\" in final_state\n",
    "    assert \"Heros of the Storm #gaming_list\" in final_state\n",
    "    assert \"Study Quizzes #gaming_list\" in final_state"
   ]
  },
  {
   "cell_type": "markdown",
   "metadata": {
    "cell_id": "7e53604cfc5e4b86be6d4c66eb5c5125",
    "deepnote_cell_type": "markdown"
   },
   "source": [
    "#### Task 7) *Prepare for the team meeting by moving all high priority tasks to the meeting_agenda_list*"
   ]
  },
  {
   "cell_type": "code",
   "execution_count": 53,
   "metadata": {
    "cell_id": "6500344e73dd4984917022917c845292",
    "deepnote_cell_type": "code",
    "deepnote_to_be_reexecuted": false,
    "execution_millis": 1378,
    "execution_start": 1709576237510,
    "scrolled": false,
    "source_hash": null
   },
   "outputs": [
    {
     "name": "stdout",
     "output_type": "stream",
     "text": [
      " 5 | Complete project proposal for client X ★9 #work_list\n",
      " 6 | Respond to emails from stakeholders ★9 #work_list\n",
      " 7 | Schedule follow-up meetings with collaborators ★9 #work_list\n",
      " a | Schedule a check-up appointment with the doctor ★9 #health_list\n",
      " 1 | Eat lunch together #meeting_agenda_list\n",
      " 2 | Review notes on quantum mechanics #study_list\n",
      " 3 | Solve practice problems for organic chemistry #study_list\n",
      " 4 | Watch tutorial videos on machine learning algorithms #study_list\n",
      " 8 | Go for a 30-minute jog #health_list\n",
      " 9 | Do yoga for 20 minutes #health_list\n",
      " b | Organize closet and donate old clothes #personal_list\n",
      " c | Start learning a new language with Duolingo #personal_list\n",
      "\n"
     ]
    }
   ],
   "source": [
    "task = \"Prepare for the team meeting by moving all high priority tasks to the meeting_agenda_list\"\n",
    "\n",
    "init_commands = f\"\"\"\n",
    "rm -r {TODO_LOC}\n",
    "\n",
    "todo add \"Eat lunch together\" --context meeting_agenda_list\n",
    "\n",
    "todo add \"Review notes on quantum mechanics\" --context study_list\n",
    "todo add \"Solve practice problems for organic chemistry\" --context study_list\n",
    "todo add \"Watch tutorial videos on machine learning algorithms\" --context study_list\n",
    "\n",
    "todo add \"Complete project proposal for client X\" --context work_list\n",
    "todo add \"Respond to emails from stakeholders\" --context work_list\n",
    "todo add \"Schedule follow-up meetings with collaborators\" --context work_list\n",
    "\n",
    "todo task 5 --priority 9\n",
    "todo task 6 --priority 9\n",
    "todo task 7 --priority 9\n",
    "\n",
    "todo add \"Go for a 30-minute jog\" --context health_list\n",
    "todo add \"Do yoga for 20 minutes\" --context health_list\n",
    "todo add \"Schedule a check-up appointment with the doctor\" --context health_list\n",
    "\n",
    "todo task a --priority 9\n",
    "\n",
    "todo add \"Organize closet and donate old clothes\" --context personal_list\n",
    "todo add \"Start learning a new language with Duolingo\" --context personal_list\n",
    "\n",
    "todo --flat\n",
    "\"\"\"\n",
    "\n",
    "# setup initial state\n",
    "init_state = exec_commands(init_commands)\n",
    "print(init_state)\n",
    "\n",
    "# run commands from LLM and get final state\n",
    "final_commands = student_llm(task)\n",
    "exec_commands(final_commands)\n",
    "final_state = exec_commands('todo --flat')\n",
    "\n",
    "if TEST:\n",
    "    # check that the final state has the high priority items in the agenda list\n",
    "    assert \"Complete project proposal for client X ★9 #meeting_agenda_list\" in final_state\n",
    "    assert \"Respond to emails from stakeholders ★9 #meeting_agenda_list\" in final_state\n",
    "    assert \"Schedule follow-up meetings with collaborators ★9 #meeting_agenda_list\" in final_state\n",
    "    assert \"Schedule a check-up appointment with the doctor ★9 #meeting_agenda_list\" in final_state\n",
    "    # and that they no longer belong to their original lists\n",
    "    assert \"Complete project proposal for client X ★9 #work_list\" not in final_state\n",
    "    assert \"Respond to emails from stakeholders ★9 #work_list\" not in final_state\n",
    "    assert \"Schedule follow-up meetings with collaborators ★9 #work_list\" not in final_state\n",
    "    assert \"Schedule a check-up appointment with the doctor ★9 #health_list\" not in final_state\n",
    "    # number of ★ should be 4 (no othe priorities)\n",
    "    assert final_state.count(\"★9\") == 4"
   ]
  },
  {
   "cell_type": "markdown",
   "metadata": {
    "cell_id": "4f2f50b1ce8948d18fd3946311ff20bd",
    "deepnote_cell_type": "markdown"
   },
   "source": [
    "#### Task 8) *Move all high-importance items from my tasks_list to my priorities_list*"
   ]
  },
  {
   "cell_type": "code",
   "execution_count": 54,
   "metadata": {
    "cell_id": "9dc7a7366e8044b0b5aa04244f9efbf4",
    "deepnote_cell_type": "code",
    "deepnote_to_be_reexecuted": false,
    "execution_millis": 888,
    "execution_start": 1709576238907,
    "source_hash": null
   },
   "outputs": [
    {
     "name": "stdout",
     "output_type": "stream",
     "text": [
      " 2 | Complete project proposal for client X ★99 #task_list\n",
      " 3 | Respond to emails from stakeholders ★99 #task_list\n",
      " 4 | Schedule follow-up meetings with collaborators ★90 #task_list\n",
      " 5 | Go to China and see the great wall ★90 #travel_list\n",
      " 6 | Fly to Paris ★90 #travel_list\n",
      " 1 | Go swimming #priorities_list\n",
      "\n"
     ]
    }
   ],
   "source": [
    "task = \"Move all high-importance items from my task_list to my priorities_list\"\n",
    "\n",
    "init_commands = f\"\"\"\n",
    "rm -r {TODO_LOC}\n",
    "\n",
    "todo add \"Go swimming\" --context priorities_list\n",
    "\n",
    "todo add \"Complete project proposal for client X\" --context task_list\n",
    "todo add \"Respond to emails from stakeholders\" --context task_list\n",
    "todo add \"Schedule follow-up meetings with collaborators\" --context task_list\n",
    "\n",
    "todo task 2 --priority 99\n",
    "todo task 3 --priority 99\n",
    "todo task 4 --priority 90\n",
    "\n",
    "todo add \"Go to China and see the great wall\" --context travel_list\n",
    "todo add \"Fly to Paris\" --context travel_list\n",
    "\n",
    "todo task 5 --priority 90\n",
    "todo task 6 --priority 90\n",
    "\n",
    "todo --flat\n",
    "\"\"\"\n",
    "\n",
    "# setup initial state\n",
    "init_state = exec_commands(init_commands)\n",
    "print(init_state)\n",
    "\n",
    "# run commands from LLM and get final state\n",
    "final_commands = student_llm(task)\n",
    "exec_commands(final_commands)\n",
    "final_state = exec_commands('todo --flat')\n",
    "\n",
    "if TEST:\n",
    "    # Check that the final state has the high priority items in the agenda list\n",
    "    assert \"Complete project proposal for client X ★99 #priorities_list\" in final_state\n",
    "    assert \"Respond to emails from stakeholders ★99 #priorities_list\" in final_state\n",
    "    assert \"Schedule follow-up meetings with collaborators ★90 #priorities_list\" in final_state\n",
    "    # Ensure priorities_list was not erased\n",
    "    assert \"Go swimming #priorities_list\" in final_state\n",
    "    # and that they no longer belong to their original lists\n",
    "    assert \"Complete project proposal for client X ★99 #task_list\" not in final_state\n",
    "    assert \"Respond to emails from stakeholders ★99 #task_list\" not in final_state\n",
    "    assert \"Schedule follow-up meetings with collaborators ★90 #task_list\" not in final_state"
   ]
  },
  {
   "cell_type": "markdown",
   "metadata": {
    "created_in_deepnote_cell": true,
    "deepnote_cell_type": "markdown"
   },
   "source": [
    "<a style='text-decoration:none;line-height:16px;display:flex;color:#5B5B62;padding:10px;justify-content:end;' href='https://deepnote.com?utm_source=created-in-deepnote-cell&projectId=90ff4dcc-b342-4b11-93e0-7eecf5cb71a0' target=\"_blank\">\n",
    "<img alt='Created in deepnote.com' style='display:inline;max-height:16px;margin:0px;margin-right:7.5px;' src='data:image/svg+xml;base64,PD94bWwgdmVyc2lvbj0iMS4wIiBlbmNvZGluZz0iVVRGLTgiPz4KPHN2ZyB3aWR0aD0iODBweCIgaGVpZ2h0PSI4MHB4IiB2aWV3Qm94PSIwIDAgODAgODAiIHZlcnNpb249IjEuMSIgeG1sbnM9Imh0dHA6Ly93d3cudzMub3JnLzIwMDAvc3ZnIiB4bWxuczp4bGluaz0iaHR0cDovL3d3dy53My5vcmcvMTk5OS94bGluayI+CiAgICA8IS0tIEdlbmVyYXRvcjogU2tldGNoIDU0LjEgKDc2NDkwKSAtIGh0dHBzOi8vc2tldGNoYXBwLmNvbSAtLT4KICAgIDx0aXRsZT5Hcm91cCAzPC90aXRsZT4KICAgIDxkZXNjPkNyZWF0ZWQgd2l0aCBTa2V0Y2guPC9kZXNjPgogICAgPGcgaWQ9IkxhbmRpbmciIHN0cm9rZT0ibm9uZSIgc3Ryb2tlLXdpZHRoPSIxIiBmaWxsPSJub25lIiBmaWxsLXJ1bGU9ImV2ZW5vZGQiPgogICAgICAgIDxnIGlkPSJBcnRib2FyZCIgdHJhbnNmb3JtPSJ0cmFuc2xhdGUoLTEyMzUuMDAwMDAwLCAtNzkuMDAwMDAwKSI+CiAgICAgICAgICAgIDxnIGlkPSJHcm91cC0zIiB0cmFuc2Zvcm09InRyYW5zbGF0ZSgxMjM1LjAwMDAwMCwgNzkuMDAwMDAwKSI+CiAgICAgICAgICAgICAgICA8cG9seWdvbiBpZD0iUGF0aC0yMCIgZmlsbD0iIzAyNjVCNCIgcG9pbnRzPSIyLjM3NjIzNzYyIDgwIDM4LjA0NzY2NjcgODAgNTcuODIxNzgyMiA3My44MDU3NTkyIDU3LjgyMTc4MjIgMzIuNzU5MjczOSAzOS4xNDAyMjc4IDMxLjY4MzE2ODMiPjwvcG9seWdvbj4KICAgICAgICAgICAgICAgIDxwYXRoIGQ9Ik0zNS4wMDc3MTgsODAgQzQyLjkwNjIwMDcsNzYuNDU0OTM1OCA0Ny41NjQ5MTY3LDcxLjU0MjI2NzEgNDguOTgzODY2LDY1LjI2MTk5MzkgQzUxLjExMjI4OTksNTUuODQxNTg0MiA0MS42NzcxNzk1LDQ5LjIxMjIyODQgMjUuNjIzOTg0Niw0OS4yMTIyMjg0IEMyNS40ODQ5Mjg5LDQ5LjEyNjg0NDggMjkuODI2MTI5Niw0My4yODM4MjQ4IDM4LjY0NzU4NjksMzEuNjgzMTY4MyBMNzIuODcxMjg3MSwzMi41NTQ0MjUgTDY1LjI4MDk3Myw2Ny42NzYzNDIxIEw1MS4xMTIyODk5LDc3LjM3NjE0NCBMMzUuMDA3NzE4LDgwIFoiIGlkPSJQYXRoLTIyIiBmaWxsPSIjMDAyODY4Ij48L3BhdGg+CiAgICAgICAgICAgICAgICA8cGF0aCBkPSJNMCwzNy43MzA0NDA1IEwyNy4xMTQ1MzcsMC4yNTcxMTE0MzYgQzYyLjM3MTUxMjMsLTEuOTkwNzE3MDEgODAsMTAuNTAwMzkyNyA4MCwzNy43MzA0NDA1IEM4MCw2NC45NjA0ODgyIDY0Ljc3NjUwMzgsNzkuMDUwMzQxNCAzNC4zMjk1MTEzLDgwIEM0Ny4wNTUzNDg5LDc3LjU2NzA4MDggNTMuNDE4MjY3Nyw3MC4zMTM2MTAzIDUzLjQxODI2NzcsNTguMjM5NTg4NSBDNTMuNDE4MjY3Nyw0MC4xMjg1NTU3IDM2LjMwMzk1NDQsMzcuNzMwNDQwNSAyNS4yMjc0MTcsMzcuNzMwNDQwNSBDMTcuODQzMDU4NiwzNy43MzA0NDA1IDkuNDMzOTE5NjYsMzcuNzMwNDQwNSAwLDM3LjczMDQ0MDUgWiIgaWQ9IlBhdGgtMTkiIGZpbGw9IiMzNzkzRUYiPjwvcGF0aD4KICAgICAgICAgICAgPC9nPgogICAgICAgIDwvZz4KICAgIDwvZz4KPC9zdmc+' > </img>\n",
    "Created in <span style='font-weight:600;margin-left:4px;'>Deepnote</span></a>"
   ]
  },
  {
   "cell_type": "markdown",
   "metadata": {},
   "source": [
    "# 2 Own Test Cases"
   ]
  },
  {
   "cell_type": "markdown",
   "metadata": {},
   "source": [
    "## 2.1 Single Instruction"
   ]
  },
  {
   "cell_type": "markdown",
   "metadata": {},
   "source": [
    "### 2.1.1 Date & Time Extraction"
   ]
  },
  {
   "cell_type": "code",
   "execution_count": 25,
   "metadata": {},
   "outputs": [
    {
     "name": "stdout",
     "output_type": "stream",
     "text": [
      "\n",
      "show --context sport --start 2024-05-01 00:00:00 --deadline 2024-05-07 23:59:00\n",
      "-------------------------------------------------\n",
      "\n",
      "add --title exam revisions --outdoor-related false --start 2024-04-29 21:00:00 --deadline 2024-04-29 23:00:00 --period 1d\n",
      "-------------------------------------------------\n",
      "\n",
      "move --start 2024-04-29 03:28:46 --output context priority\n"
     ]
    }
   ],
   "source": [
    "print(student_llm(\"What sport activities do I have to do next week?\",model=True))\n",
    "print(\"-------------------------------------------------\")\n",
    "print(student_llm(\"Add a daily task for exam revisions between 21:00 and 23:00\",model=True))\n",
    "print(\"-------------------------------------------------\")\n",
    "print(student_llm(\"Move tasks starting in 2 hours to priorities\",model=True))"
   ]
  },
  {
   "cell_type": "markdown",
   "metadata": {},
   "source": [
    "### 2.1.2 Long query"
   ]
  },
  {
   "cell_type": "code",
   "execution_count": 27,
   "metadata": {},
   "outputs": [
    {
     "name": "stdout",
     "output_type": "stream",
     "text": [
      "\n",
      "remove --context sport\n",
      "-------------------------------------------------\n",
      "\n",
      "prioritize --context sport --priority lowest\n",
      "-------------------------------------------------\n",
      "\n",
      "add --title cooking --outdoor-related false --start 2024-04-29 10:00:00 --deadline 2024-04-29 12:00:00 --context personal\n"
     ]
    }
   ],
   "source": [
    "print(student_llm(\"Today I am very busy so remove all tasks in my sport list\",model=True))\n",
    "print(\"-------------------------------------------------\")\n",
    "print(student_llm(\"Because the weather now is horrible set the priority of sport activities to lowest.\",model=True))\n",
    "print(\"-------------------------------------------------\")\n",
    "print(student_llm(\"We didn’t eat anything yesterday. Add a task for cooking today between 10:00 and 12:00. I will invite some friends.\",model=True))"
   ]
  },
  {
   "cell_type": "markdown",
   "metadata": {},
   "source": [
    "### 2.1.3 Ambiguous query"
   ]
  },
  {
   "cell_type": "code",
   "execution_count": 32,
   "metadata": {},
   "outputs": [
    {
     "name": "stdout",
     "output_type": "stream",
     "text": [
      "\n",
      "mark --context work --done true\n",
      "-------------------------------------------------\n",
      "\n",
      "merge --context cooking --output context sport\n",
      "-------------------------------------------------\n",
      "\n",
      "move --title [1] --context all --output context priorities\n"
     ]
    }
   ],
   "source": [
    "print(student_llm(\"Move no no no. Please mark all tasks in my work list as done\",model=True))\n",
    "print(\"-------------------------------------------------\")\n",
    "print(student_llm(\"Add task to sport list by merging cooking with sport list\",model=True))\n",
    "print(\"-------------------------------------------------\")\n",
    "print(student_llm(\"Prioritize the first task by moving it to priorities\",model=True))"
   ]
  },
  {
   "cell_type": "markdown",
   "metadata": {},
   "source": [
    "## 2.2 Multiple Instruction"
   ]
  },
  {
   "cell_type": "markdown",
   "metadata": {},
   "source": [
    "### 2.2.1 Instruction Segmentation"
   ]
  },
  {
   "cell_type": "code",
   "execution_count": 33,
   "metadata": {},
   "outputs": [
    {
     "name": "stdout",
     "output_type": "stream",
     "text": [
      "\n",
      "move --context sport --output context all\n",
      "add --title pizza delivery --outdoor-related false\n",
      "show\n",
      "-------------------------------------------------\n",
      "\n",
      "prioritize --id [1]\n",
      "mark --id [1] --done true\n",
      "-------------------------------------------------\n",
      "\n",
      "show --context all\n"
     ]
    }
   ],
   "source": [
    "print(student_llm(\"Empty my sport list. Add a task for pizza delivery. Show all tasks.\",model=True))\n",
    "print(\"-------------------------------------------------\")\n",
    "print(student_llm(\"Prioritize and mark as done the first task.\",model=True))\n",
    "print(\"-------------------------------------------------\")\n",
    "print(student_llm(\"Before removing the first task show me all tasks.\",model=True))"
   ]
  },
  {
   "cell_type": "markdown",
   "metadata": {},
   "source": [
    "### 2.2.2 Co-reference Resolution"
   ]
  },
  {
   "cell_type": "code",
   "execution_count": 34,
   "metadata": {},
   "outputs": [
    {
     "name": "stdout",
     "output_type": "stream",
     "text": [
      "\n",
      "show --context cooking\n",
      "prioritize --id [1] --priority maximum --context cooking\n",
      "-------------------------------------------------\n",
      "\n",
      "merge --context cooking --output context sport\n",
      "-------------------------------------------------\n",
      "\n",
      "prioritize --context sport --id [2]\n"
     ]
    }
   ],
   "source": [
    "print(student_llm(\"Show the tasks in cooking list and prioritize the first one of them.\",model=True))\n",
    "print(\"-------------------------------------------------\")\n",
    "print(student_llm(\"I have a cooking list merge it with my sport list.\",model=True))\n",
    "print(\"-------------------------------------------------\")\n",
    "print(student_llm(\"There are a cooking list and a sport list prioritize the second task in the latter.\",model=True))"
   ]
  }
 ],
 "metadata": {
  "deepnote_execution_queue": [],
  "deepnote_notebook_id": "e13b48fd6de54e318a976730018fdcf5",
  "deepnote_persisted_session": {
   "createdAt": "2024-03-04T18:51:49.584Z"
  },
  "kernelspec": {
   "display_name": "Python 3 (ipykernel)",
   "language": "python",
   "name": "python3"
  },
  "language_info": {
   "codemirror_mode": {
    "name": "ipython",
    "version": 3
   },
   "file_extension": ".py",
   "mimetype": "text/x-python",
   "name": "python",
   "nbconvert_exporter": "python",
   "pygments_lexer": "ipython3",
   "version": "3.10.12"
  }
 },
 "nbformat": 4,
 "nbformat_minor": 4
}
